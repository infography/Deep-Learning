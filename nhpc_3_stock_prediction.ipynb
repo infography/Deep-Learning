{
 "cells": [
  {
   "cell_type": "code",
   "execution_count": 1,
   "metadata": {
    "collapsed": true
   },
   "outputs": [],
   "source": [
    "import pandas as pd\n",
    "import numpy as np\n",
    "import matplotlib.pyplot as plt\n",
    "from sklearn.preprocessing import MinMaxScaler"
   ]
  },
  {
   "cell_type": "code",
   "execution_count": 2,
   "metadata": {
    "collapsed": true
   },
   "outputs": [],
   "source": [
    "df = pd.read_csv('NHPC.csv',header=None)"
   ]
  },
  {
   "cell_type": "code",
   "execution_count": 3,
   "metadata": {
    "collapsed": true
   },
   "outputs": [],
   "source": [
    "df.drop([0,1,2,3,4,5,6],axis=1,inplace=True)"
   ]
  },
  {
   "cell_type": "code",
   "execution_count": 4,
   "metadata": {},
   "outputs": [
    {
     "data": {
      "text/html": [
       "<div>\n",
       "<style>\n",
       "    .dataframe thead tr:only-child th {\n",
       "        text-align: right;\n",
       "    }\n",
       "\n",
       "    .dataframe thead th {\n",
       "        text-align: left;\n",
       "    }\n",
       "\n",
       "    .dataframe tbody tr th {\n",
       "        vertical-align: top;\n",
       "    }\n",
       "</style>\n",
       "<table border=\"1\" class=\"dataframe\">\n",
       "  <thead>\n",
       "    <tr style=\"text-align: right;\">\n",
       "      <th></th>\n",
       "      <th>7</th>\n",
       "    </tr>\n",
       "  </thead>\n",
       "  <tbody>\n",
       "    <tr>\n",
       "      <th>0</th>\n",
       "      <td>123.0</td>\n",
       "    </tr>\n",
       "    <tr>\n",
       "      <th>1</th>\n",
       "      <td>124.0</td>\n",
       "    </tr>\n",
       "    <tr>\n",
       "      <th>2</th>\n",
       "      <td>123.0</td>\n",
       "    </tr>\n",
       "    <tr>\n",
       "      <th>3</th>\n",
       "      <td>120.0</td>\n",
       "    </tr>\n",
       "    <tr>\n",
       "      <th>4</th>\n",
       "      <td>124.0</td>\n",
       "    </tr>\n",
       "  </tbody>\n",
       "</table>\n",
       "</div>"
      ],
      "text/plain": [
       "       7\n",
       "0  123.0\n",
       "1  124.0\n",
       "2  123.0\n",
       "3  120.0\n",
       "4  124.0"
      ]
     },
     "execution_count": 4,
     "metadata": {},
     "output_type": "execute_result"
    }
   ],
   "source": [
    "df.head()"
   ]
  },
  {
   "cell_type": "code",
   "execution_count": 5,
   "metadata": {
    "collapsed": true
   },
   "outputs": [],
   "source": [
    "dataset = df.values"
   ]
  },
  {
   "cell_type": "code",
   "execution_count": 6,
   "metadata": {
    "collapsed": true
   },
   "outputs": [],
   "source": [
    "scaler = MinMaxScaler(feature_range=(0, 1))\n",
    "dataset = scaler.fit_transform(dataset)"
   ]
  },
  {
   "cell_type": "code",
   "execution_count": null,
   "metadata": {
    "collapsed": true
   },
   "outputs": [],
   "source": []
  },
  {
   "cell_type": "code",
   "execution_count": 7,
   "metadata": {
    "collapsed": true
   },
   "outputs": [],
   "source": [
    "x1=[0]\n",
    "x2=[0,0]\n",
    "x3=[0,0,0]\n",
    "y=[]\n",
    "for i in range(dataset.shape[0]):\n",
    "    x1.append(dataset[i][0])\n",
    "    x2.append(dataset[i][0])\n",
    "    x3.append(dataset[i][0])\n",
    "    y.append(dataset[i][0])"
   ]
  },
  {
   "cell_type": "code",
   "execution_count": 8,
   "metadata": {
    "collapsed": true
   },
   "outputs": [],
   "source": [
    "#  b=np.array(zip(x1,x2,x3))\n",
    "# x = np.delete(b,(0,1,2),axis=0)"
   ]
  },
  {
   "cell_type": "code",
   "execution_count": 9,
   "metadata": {
    "collapsed": true
   },
   "outputs": [],
   "source": [
    "x1[0:3]=[]\n",
    "x2[0:3]=[]\n",
    "x3[0:3]=[]\n",
    "y[0:3]=[]"
   ]
  },
  {
   "cell_type": "code",
   "execution_count": 10,
   "metadata": {},
   "outputs": [
    {
     "name": "stdout",
     "output_type": "stream",
     "text": [
      "546\n",
      "545\n"
     ]
    }
   ],
   "source": [
    "x = np.array(zip(x1,x2,x3))\n",
    "y=np.array(y)\n",
    "print len(x)\n",
    "print len(y)"
   ]
  },
  {
   "cell_type": "code",
   "execution_count": 11,
   "metadata": {
    "collapsed": true
   },
   "outputs": [],
   "source": [
    "x_train,x_test = x[:500],x[500:]\n",
    "y_train,y_test = y[:500],y[500:]"
   ]
  },
  {
   "cell_type": "code",
   "execution_count": 12,
   "metadata": {
    "collapsed": true
   },
   "outputs": [],
   "source": [
    "x_train = np.reshape(x_train, (x_train.shape[0], x_train.shape[1], 1))\n",
    "x_test = np.reshape(x_test, (x_test.shape[0], x_test.shape[1], 1))"
   ]
  },
  {
   "cell_type": "code",
   "execution_count": 13,
   "metadata": {},
   "outputs": [
    {
     "name": "stderr",
     "output_type": "stream",
     "text": [
      "Using TensorFlow backend.\n"
     ]
    }
   ],
   "source": [
    "from keras.models import Sequential\n",
    "from keras.layers import Dense,LSTM"
   ]
  },
  {
   "cell_type": "code",
   "execution_count": 14,
   "metadata": {
    "collapsed": true
   },
   "outputs": [],
   "source": [
    "look_back=3\n",
    "model = Sequential()\n",
    "model.add(LSTM(50, return_sequences=True, input_shape=(look_back,1),stateful=True,batch_size=1))\n",
    "model.add(LSTM(75,return_sequences=True,stateful=True))\n",
    "model.add(LSTM(100,return_sequences=False,stateful=True))\n",
    "model.add(Dense(1, activation='linear'))"
   ]
  },
  {
   "cell_type": "code",
   "execution_count": 15,
   "metadata": {
    "collapsed": true
   },
   "outputs": [],
   "source": [
    "model.compile(loss='mean_squared_error', optimizer='adam')"
   ]
  },
  {
   "cell_type": "code",
   "execution_count": 16,
   "metadata": {},
   "outputs": [
    {
     "name": "stdout",
     "output_type": "stream",
     "text": [
      "Epoch 1/100\n",
      "21s - loss: 0.0117\n",
      "Epoch 2/100\n",
      "18s - loss: 0.0101\n",
      "Epoch 3/100\n",
      "19s - loss: 0.0092\n",
      "Epoch 4/100\n",
      "17s - loss: 0.0103\n",
      "Epoch 5/100\n",
      "18s - loss: 0.0101\n",
      "Epoch 6/100\n",
      "18s - loss: 0.0108\n",
      "Epoch 7/100\n",
      "19s - loss: 0.0125\n",
      "Epoch 8/100\n",
      "17s - loss: 0.0136\n",
      "Epoch 9/100\n",
      "17s - loss: 0.0150\n",
      "Epoch 10/100\n",
      "18s - loss: 0.0152\n",
      "Epoch 11/100\n",
      "17s - loss: 0.0163\n",
      "Epoch 12/100\n",
      "18s - loss: 0.0172\n",
      "Epoch 13/100\n",
      "17s - loss: 0.0167\n",
      "Epoch 14/100\n",
      "18s - loss: 0.0188\n",
      "Epoch 15/100\n",
      "17s - loss: 0.0185\n",
      "Epoch 16/100\n",
      "18s - loss: 0.0187\n",
      "Epoch 17/100\n",
      "18s - loss: 0.0207\n",
      "Epoch 18/100\n",
      "17s - loss: 0.0191\n",
      "Epoch 19/100\n",
      "17s - loss: 0.0187\n",
      "Epoch 20/100\n",
      "17s - loss: 0.0223\n",
      "Epoch 21/100\n",
      "17s - loss: 0.0225\n",
      "Epoch 22/100\n",
      "17s - loss: 0.0225\n",
      "Epoch 23/100\n",
      "17s - loss: 0.0238\n",
      "Epoch 24/100\n",
      "17s - loss: 0.0268\n",
      "Epoch 25/100\n",
      "17s - loss: 0.0337\n",
      "Epoch 26/100\n",
      "38s - loss: 0.0316\n",
      "Epoch 27/100\n",
      "37s - loss: 0.0233\n",
      "Epoch 28/100\n",
      "37s - loss: 0.0358\n",
      "Epoch 29/100\n",
      "56s - loss: 0.0422\n",
      "Epoch 30/100\n",
      "37s - loss: 0.0373\n",
      "Epoch 31/100\n",
      "36s - loss: 0.0399\n",
      "Epoch 32/100\n",
      "37s - loss: 0.0359\n",
      "Epoch 33/100\n",
      "37s - loss: 0.0382\n",
      "Epoch 34/100\n",
      "37s - loss: 0.0407\n",
      "Epoch 35/100\n",
      "37s - loss: 0.0437\n",
      "Epoch 36/100\n",
      "36s - loss: 0.0347\n",
      "Epoch 37/100\n",
      "37s - loss: 0.0426\n",
      "Epoch 38/100\n",
      "37s - loss: 0.0448\n",
      "Epoch 39/100\n",
      "37s - loss: 0.0497\n",
      "Epoch 40/100\n",
      "37s - loss: 0.0552\n",
      "Epoch 41/100\n",
      "37s - loss: 0.0588\n",
      "Epoch 42/100\n",
      "37s - loss: 0.0476\n",
      "Epoch 43/100\n",
      "225s - loss: 0.0504\n",
      "Epoch 44/100\n",
      "18s - loss: 0.0599\n",
      "Epoch 45/100\n",
      "18s - loss: 0.0458\n",
      "Epoch 46/100\n",
      "18s - loss: 0.0459\n",
      "Epoch 47/100\n",
      "18s - loss: 0.0596\n",
      "Epoch 48/100\n",
      "18s - loss: 0.0451\n",
      "Epoch 49/100\n",
      "18s - loss: 0.0407\n",
      "Epoch 50/100\n",
      "18s - loss: 0.0438\n",
      "Epoch 51/100\n",
      "18s - loss: 0.0555\n",
      "Epoch 52/100\n",
      "18s - loss: 0.0586\n",
      "Epoch 53/100\n",
      "18s - loss: 0.0435\n",
      "Epoch 54/100\n",
      "18s - loss: 0.0355\n",
      "Epoch 55/100\n",
      "18s - loss: 0.0522\n",
      "Epoch 56/100\n",
      "18s - loss: 0.0452\n",
      "Epoch 57/100\n",
      "18s - loss: 0.0479\n",
      "Epoch 58/100\n",
      "18s - loss: 0.0422\n",
      "Epoch 59/100\n",
      "18s - loss: 0.0466\n",
      "Epoch 60/100\n",
      "18s - loss: 0.0448\n",
      "Epoch 61/100\n",
      "18s - loss: 0.0369\n",
      "Epoch 62/100\n",
      "18s - loss: 0.0414\n",
      "Epoch 63/100\n",
      "18s - loss: 0.0355\n",
      "Epoch 64/100\n",
      "18s - loss: 0.0362\n",
      "Epoch 65/100\n",
      "18s - loss: 0.0321\n",
      "Epoch 66/100\n",
      "18s - loss: 0.0362\n",
      "Epoch 67/100\n",
      "18s - loss: 0.0337\n",
      "Epoch 68/100\n",
      "18s - loss: 0.0237\n",
      "Epoch 69/100\n",
      "18s - loss: 0.0319\n",
      "Epoch 70/100\n",
      "18s - loss: 0.0253\n",
      "Epoch 71/100\n",
      "18s - loss: 0.0285\n",
      "Epoch 72/100\n",
      "18s - loss: 0.0276\n",
      "Epoch 73/100\n",
      "18s - loss: 0.0274\n",
      "Epoch 74/100\n",
      "18s - loss: 0.0267\n",
      "Epoch 75/100\n",
      "18s - loss: 0.0226\n",
      "Epoch 76/100\n",
      "17s - loss: 0.0241\n",
      "Epoch 77/100\n",
      "18s - loss: 0.0293\n",
      "Epoch 78/100\n",
      "18s - loss: 0.0359\n",
      "Epoch 79/100\n",
      "18s - loss: 0.0275\n",
      "Epoch 80/100\n",
      "18s - loss: 0.0230\n",
      "Epoch 81/100\n",
      "18s - loss: 0.0263\n",
      "Epoch 82/100\n",
      "17s - loss: 0.0282\n",
      "Epoch 83/100\n",
      "18s - loss: 0.0185\n",
      "Epoch 84/100\n",
      "18s - loss: 0.0185\n",
      "Epoch 85/100\n",
      "18s - loss: 0.0218\n",
      "Epoch 86/100\n",
      "18s - loss: 0.0263\n",
      "Epoch 87/100\n",
      "18s - loss: 0.0250\n",
      "Epoch 88/100\n",
      "18s - loss: 0.0224\n",
      "Epoch 89/100\n",
      "18s - loss: 0.0215\n",
      "Epoch 90/100\n",
      "18s - loss: 0.0214\n",
      "Epoch 91/100\n",
      "18s - loss: 0.0180\n",
      "Epoch 92/100\n",
      "17s - loss: 0.0222\n",
      "Epoch 93/100\n",
      "18s - loss: 0.0267\n",
      "Epoch 94/100\n",
      "18s - loss: 0.0149\n",
      "Epoch 95/100\n",
      "18s - loss: 0.0160\n",
      "Epoch 96/100\n",
      "18s - loss: 0.0162\n",
      "Epoch 97/100\n",
      "18s - loss: 0.0211\n",
      "Epoch 98/100\n",
      "18s - loss: 0.0164\n",
      "Epoch 99/100\n",
      "18s - loss: 0.0172\n",
      "Epoch 100/100\n",
      "18s - loss: 0.0092\n"
     ]
    },
    {
     "data": {
      "text/plain": [
       "<keras.callbacks.History at 0x12c80b750>"
      ]
     },
     "execution_count": 16,
     "metadata": {},
     "output_type": "execute_result"
    }
   ],
   "source": [
    "model.fit(x_train, y_train,epochs=100,verbose=2,batch_size=1,shuffle=False)"
   ]
  },
  {
   "cell_type": "code",
   "execution_count": null,
   "metadata": {
    "collapsed": true
   },
   "outputs": [],
   "source": [
    "prediction = model.predict(x_test, batch_size=1)"
   ]
  },
  {
   "cell_type": "code",
   "execution_count": 18,
   "metadata": {},
   "outputs": [
    {
     "name": "stderr",
     "output_type": "stream",
     "text": [
      "//anaconda/lib/python2.7/site-packages/sklearn/preprocessing/data.py:374: DeprecationWarning: Passing 1d arrays as data is deprecated in 0.17 and will raise ValueError in 0.19. Reshape your data either using X.reshape(-1, 1) if your data has a single feature or X.reshape(1, -1) if it contains a single sample.\n",
      "  warnings.warn(DEPRECATION_MSG_1D, DeprecationWarning)\n"
     ]
    }
   ],
   "source": [
    "prediction = scaler.inverse_transform(prediction)\n",
    "y_test = scaler.inverse_transform(y_test)"
   ]
  },
  {
   "cell_type": "code",
   "execution_count": 19,
   "metadata": {},
   "outputs": [
    {
     "data": {
      "text/plain": [
       "array([[ 132.27653503],\n",
       "       [ 132.27653503],\n",
       "       [ 132.27653503]], dtype=float32)"
      ]
     },
     "execution_count": 19,
     "metadata": {},
     "output_type": "execute_result"
    }
   ],
   "source": [
    "prediction[43:47]"
   ]
  },
  {
   "cell_type": "code",
   "execution_count": 23,
   "metadata": {
    "collapsed": true
   },
   "outputs": [],
   "source": [
    "y_test = y_test.reshape(-1,1)"
   ]
  },
  {
   "cell_type": "code",
   "execution_count": 40,
   "metadata": {
    "collapsed": true
   },
   "outputs": [],
   "source": [
    "import matplotlib.pyplot as plt"
   ]
  },
  {
   "cell_type": "code",
   "execution_count": 41,
   "metadata": {
    "collapsed": true
   },
   "outputs": [],
   "source": [
    "f,ax = plt.subplots(figsize=(15,10))"
   ]
  },
  {
   "cell_type": "code",
   "execution_count": 42,
   "metadata": {
    "collapsed": true
   },
   "outputs": [],
   "source": [
    "df = pd.DataFrame(prediction)\n",
    "df1 = pd.DataFrame(y_test)"
   ]
  },
  {
   "cell_type": "code",
   "execution_count": 43,
   "metadata": {},
   "outputs": [
    {
     "data": {
      "text/plain": [
       "[<matplotlib.lines.Line2D at 0x12437d710>]"
      ]
     },
     "execution_count": 43,
     "metadata": {},
     "output_type": "execute_result"
    }
   ],
   "source": [
    "ax.plot(df,'r')\n",
    "ax.plot(df1,'b')"
   ]
  },
  {
   "cell_type": "code",
   "execution_count": 44,
   "metadata": {},
   "outputs": [
    {
     "data": {
      "image/png": "[encoded data removed]",
      "text/plain": [
       "<matplotlib.figure.Figure at 0x125034390>"
      ]
     },
     "metadata": {},
     "output_type": "display_data"
    }
   ],
   "source": [
    "plt.show()"
   ]
  },
  {
   "cell_type": "code",
   "execution_count": 39,
   "metadata": {},
   "outputs": [
    {
     "data": {
      "text/plain": [
       "array([[ 155.],\n",
       "       [ 156.],\n",
       "       [ 153.],\n",
       "       [ 153.],\n",
       "       [ 153.],\n",
       "       [ 152.],\n",
       "       [ 152.],\n",
       "       [ 148.],\n",
       "       [ 140.],\n",
       "       [ 144.],\n",
       "       [ 144.],\n",
       "       [ 142.],\n",
       "       [ 143.],\n",
       "       [ 144.],\n",
       "       [ 142.],\n",
       "       [ 143.],\n",
       "       [ 140.],\n",
       "       [ 140.],\n",
       "       [ 138.],\n",
       "       [ 140.],\n",
       "       [ 133.],\n",
       "       [ 138.],\n",
       "       [ 143.],\n",
       "       [ 146.],\n",
       "       [ 141.],\n",
       "       [ 145.],\n",
       "       [ 146.],\n",
       "       [ 144.],\n",
       "       [ 143.],\n",
       "       [ 141.],\n",
       "       [ 140.],\n",
       "       [ 139.],\n",
       "       [ 142.],\n",
       "       [ 140.],\n",
       "       [ 140.],\n",
       "       [ 142.],\n",
       "       [ 140.],\n",
       "       [ 138.],\n",
       "       [ 139.],\n",
       "       [ 138.],\n",
       "       [ 135.],\n",
       "       [ 139.],\n",
       "       [ 139.],\n",
       "       [ 138.],\n",
       "       [ 135.]])"
      ]
     },
     "execution_count": 39,
     "metadata": {},
     "output_type": "execute_result"
    }
   ],
   "source": [
    "y_test"
   ]
  },
  {
   "cell_type": "code",
   "execution_count": null,
   "metadata": {
    "collapsed": true
   },
   "outputs": [],
   "source": []
  }
 ],
 "metadata": {
  "kernelspec": {
   "display_name": "Python 2",
   "language": "python",
   "name": "python2"
  },
  "language_info": {
   "codemirror_mode": {
    "name": "ipython",
    "version": 2
   },
   "file_extension": ".py",
   "mimetype": "text/x-python",
   "name": "python",
   "nbconvert_exporter": "python",
   "pygments_lexer": "ipython2",
   "version": "2.7.13"
  }
 },
 "nbformat": 4,
 "nbformat_minor": 2
}
